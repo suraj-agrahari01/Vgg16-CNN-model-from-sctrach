{
  "nbformat": 4,
  "nbformat_minor": 0,
  "metadata": {
    "colab": {
      "provenance": [],
      "gpuType": "T4"
    },
    "kernelspec": {
      "name": "python3",
      "display_name": "Python 3"
    },
    "language_info": {
      "name": "python"
    },
    "accelerator": "GPU"
  },
  "cells": [
    {
      "cell_type": "code",
      "execution_count": null,
      "metadata": {
        "id": "Bg72gWaSspq_"
      },
      "outputs": [],
      "source": [
        "import numpy as np\n",
        "import tensorflow as tf\n",
        "from tensorflow.keras.applications import VGG16\n",
        "from tensorflow.keras.datasets import cifar10\n",
        "from tensorflow.keras.utils import to_categorical\n",
        "from tensorflow.keras.models import Model\n",
        "from tensorflow.keras.layers import Dense, Flatten\n",
        "from tensorflow.keras.optimizers import Adam\n",
        "\n",
        "\n"
      ]
    },
    {
      "cell_type": "code",
      "source": [
        "## Load the CIFAR-10 dataset\n",
        "(x_train, y_train), (x_test, y_test) = cifar10.load_data()\n",
        "\n",
        "\n"
      ],
      "metadata": {
        "colab": {
          "base_uri": "https://localhost:8080/"
        },
        "id": "FN4gLot4s9bF",
        "outputId": "3bb23f09-37f3-4b54-fa05-3d0622ebf896"
      },
      "execution_count": null,
      "outputs": [
        {
          "output_type": "stream",
          "name": "stdout",
          "text": [
            "Downloading data from https://www.cs.toronto.edu/~kriz/cifar-10-python.tar.gz\n",
            "170498071/170498071 [==============================] - 2s 0us/step\n"
          ]
        }
      ]
    },
    {
      "cell_type": "code",
      "source": [
        "# Normalize the pixel values to the range [0, 1]\n",
        "x_train = x_train.astype('float32') / 255.0\n",
        "x_test = x_test.astype('float32') / 255.0"
      ],
      "metadata": {
        "id": "JPu6x_kstHzr"
      },
      "execution_count": null,
      "outputs": []
    },
    {
      "cell_type": "code",
      "source": [
        "\n",
        "# One-hot encode the target labels\n",
        "num_classes = 10\n",
        "y_train = to_categorical(y_train, num_classes)\n",
        "y_test = to_categorical(y_test, num_classes)\n",
        "\n"
      ],
      "metadata": {
        "id": "ZPfEpznWtFat"
      },
      "execution_count": null,
      "outputs": []
    },
    {
      "cell_type": "code",
      "source": [
        "# Load the pre-trained VGG16 model without the classification layers\n",
        "base_model = VGG16(weights='imagenet', include_top=False, input_shape=(32, 32, 3))\n",
        "\n"
      ],
      "metadata": {
        "colab": {
          "base_uri": "https://localhost:8080/"
        },
        "id": "67XBj3ZdtzlY",
        "outputId": "66890dbd-036d-4918-f5cb-dc417a9fc0c2"
      },
      "execution_count": null,
      "outputs": [
        {
          "output_type": "stream",
          "name": "stdout",
          "text": [
            "Downloading data from https://storage.googleapis.com/tensorflow/keras-applications/vgg16/vgg16_weights_tf_dim_ordering_tf_kernels_notop.h5\n",
            "58889256/58889256 [==============================] - 0s 0us/step\n"
          ]
        }
      ]
    },
    {
      "cell_type": "code",
      "source": [
        "# Add a custom classification head on top of the VGG16 base model\n",
        "x = base_model.output\n",
        "x = Flatten()(x)\n",
        "x = Dense(512, activation='relu')(x)\n",
        "predictions = Dense(num_classes, activation='softmax')(x)\n",
        "\n"
      ],
      "metadata": {
        "id": "FbKxs9i6t6h8"
      },
      "execution_count": null,
      "outputs": []
    },
    {
      "cell_type": "code",
      "source": [
        "# Create the final model\n",
        "model = Model(inputs=base_model.input, outputs=predictions)\n",
        "\n"
      ],
      "metadata": {
        "id": "CMXlb3tPt94F"
      },
      "execution_count": null,
      "outputs": []
    },
    {
      "cell_type": "code",
      "source": [
        "# Freeze the pre-trained layers to prevent them from being updated during training\n",
        "for layer in base_model.layers:\n",
        "    layer.trainable = False\n",
        "\n"
      ],
      "metadata": {
        "id": "gjhoO8KfuBBv"
      },
      "execution_count": null,
      "outputs": []
    },
    {
      "cell_type": "code",
      "source": [
        "# Compile the model\n",
        "model.compile(optimizer=Adam(lr=0.001), loss='categorical_crossentropy', metrics=['accuracy'])\n",
        "\n"
      ],
      "metadata": {
        "colab": {
          "base_uri": "https://localhost:8080/"
        },
        "id": "TOsYyIpbuDtD",
        "outputId": "a5d58e6d-7d28-45df-b18f-fce7f44215e0"
      },
      "execution_count": null,
      "outputs": [
        {
          "output_type": "stream",
          "name": "stderr",
          "text": [
            "WARNING:absl:`lr` is deprecated in Keras optimizer, please use `learning_rate` or use the legacy optimizer, e.g.,tf.keras.optimizers.legacy.Adam.\n"
          ]
        }
      ]
    },
    {
      "cell_type": "code",
      "source": [
        "# Data augmentation to increase dataset diversity\n",
        "datagen = tf.keras.preprocessing.image.ImageDataGenerator(\n",
        "    rotation_range=20,\n",
        "    width_shift_range=0.2,\n",
        "    height_shift_range=0.2,\n",
        "    horizontal_flip=True\n",
        ")\n",
        "\n",
        "datagen.fit(x_train)\n",
        "\n"
      ],
      "metadata": {
        "id": "sN0Tei_KuGR6"
      },
      "execution_count": null,
      "outputs": []
    },
    {
      "cell_type": "code",
      "source": [
        "# Train the model\n",
        "batch_size = 64\n",
        "epochs = 10\n",
        "model.fit(datagen.flow(x_train, y_train, batch_size=batch_size), steps_per_epoch=len(x_train) // batch_size,\n",
        "          epochs=epochs, validation_data=(x_test, y_test))\n",
        "\n"
      ],
      "metadata": {
        "colab": {
          "base_uri": "https://localhost:8080/"
        },
        "id": "yGe0RwoouJes",
        "outputId": "4c72cd0e-e6fd-479d-8087-62bfec140176"
      },
      "execution_count": null,
      "outputs": [
        {
          "output_type": "stream",
          "name": "stdout",
          "text": [
            "781/781 [==============================] - 45s 46ms/step - loss: 1.5252 - accuracy: 0.4640 - val_loss: 1.3092 - val_accuracy: 0.5354\n",
            "Epoch 2/10\n",
            "781/781 [==============================] - 33s 42ms/step - loss: 1.3770 - accuracy: 0.5138 - val_loss: 1.2769 - val_accuracy: 0.5463\n",
            "Epoch 3/10\n",
            "781/781 [==============================] - 34s 43ms/step - loss: 1.3312 - accuracy: 0.5278 - val_loss: 1.2660 - val_accuracy: 0.5525\n",
            "Epoch 4/10\n",
            "781/781 [==============================] - 36s 46ms/step - loss: 1.3040 - accuracy: 0.5384 - val_loss: 1.2144 - val_accuracy: 0.5687\n",
            "Epoch 5/10\n",
            "781/781 [==============================] - 33s 43ms/step - loss: 1.2754 - accuracy: 0.5479 - val_loss: 1.1862 - val_accuracy: 0.5831\n",
            "Epoch 6/10\n",
            "781/781 [==============================] - 33s 42ms/step - loss: 1.2541 - accuracy: 0.5563 - val_loss: 1.2073 - val_accuracy: 0.5753\n",
            "Epoch 7/10\n",
            "781/781 [==============================] - 34s 43ms/step - loss: 1.2406 - accuracy: 0.5607 - val_loss: 1.1694 - val_accuracy: 0.5892\n",
            "Epoch 8/10\n",
            "781/781 [==============================] - 33s 42ms/step - loss: 1.2220 - accuracy: 0.5666 - val_loss: 1.1519 - val_accuracy: 0.6007\n",
            "Epoch 9/10\n",
            "781/781 [==============================] - 34s 43ms/step - loss: 1.2121 - accuracy: 0.5706 - val_loss: 1.1592 - val_accuracy: 0.5935\n",
            "Epoch 10/10\n",
            "781/781 [==============================] - 33s 42ms/step - loss: 1.1983 - accuracy: 0.5765 - val_loss: 1.1580 - val_accuracy: 0.5990\n"
          ]
        },
        {
          "output_type": "execute_result",
          "data": {
            "text/plain": [
              "<keras.callbacks.History at 0x7b9f883ec8b0>"
            ]
          },
          "metadata": {},
          "execution_count": 15
        }
      ]
    },
    {
      "cell_type": "code",
      "source": [
        "# Evaluate the model on the test set\n",
        "score = model.evaluate(x_test, y_test, verbose=0)\n",
        "print('Test loss:', score[0])\n",
        "print('Test accuracy:', score[1])"
      ],
      "metadata": {
        "colab": {
          "base_uri": "https://localhost:8080/"
        },
        "id": "ubxyaQoWuwKK",
        "outputId": "d9a53d13-6edb-4f90-f340-d77516d2135c"
      },
      "execution_count": null,
      "outputs": [
        {
          "output_type": "stream",
          "name": "stdout",
          "text": [
            "Test loss: 1.1580147743225098\n",
            "Test accuracy: 0.5989999771118164\n"
          ]
        }
      ]
    }
  ]
}